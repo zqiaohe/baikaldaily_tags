{
  "nbformat": 4,
  "nbformat_minor": 0,
  "metadata": {
    "colab": {
      "name": "TagsParser.ipynb",
      "provenance": [],
      "collapsed_sections": [],
      "authorship_tag": "ABX9TyM4Z33Iuf7hgIJI0Tn0YmNJ"
    },
    "kernelspec": {
      "name": "python3",
      "display_name": "Python 3"
    }
  },
  "cells": [
    {
      "cell_type": "markdown",
      "metadata": {
        "id": "y9D3ilMGHbQ6"
      },
      "source": [
        " Первая новость \n",
        "\n",
        "https://www.baikal-daily.ru/news/16/4005/\n",
        "\n",
        "Последняя новость\n",
        "\n",
        "https://www.baikal-daily.ru/news/16/403089/\n",
        "\n",
        "подбирает теги, тему и даты\\\n",
        "\n",
        "\n",
        "19 - власть\n",
        "\n",
        "15 - экономика\n",
        "\n",
        "16 - общество\n",
        "\n",
        "45 - бизнес\n",
        "\n",
        "20 - происшествия\n",
        "\n",
        "interview\n"
      ]
    },
    {
      "cell_type": "code",
      "metadata": {
        "id": "ATo96Ph4u0Pv"
      },
      "source": [
        "sections = ['19', '15', '16', '45', '20', 'interview']"
      ],
      "execution_count": null,
      "outputs": []
    },
    {
      "cell_type": "code",
      "metadata": {
        "colab": {
          "base_uri": "https://localhost:8080/"
        },
        "id": "j-hv7hVeImQJ",
        "outputId": "e7af8829-ba20-4a52-8625-0fe1e55348f5"
      },
      "source": [
        "!pip install selenium\n",
        "!pip install BeautifulSoup\n",
        "!pip install html5lib \n",
        "!apt-get update # to update ubuntu to correctly run apt install\n",
        "!apt install chromium-chromedriver\n",
        "!cp /usr/lib/chromium-browser/chromedriver /usr/bin\n"
      ],
      "execution_count": null,
      "outputs": [
        {
          "output_type": "stream",
          "text": [
            "Collecting selenium\n",
            "\u001b[?25l  Downloading https://files.pythonhosted.org/packages/80/d6/4294f0b4bce4de0abf13e17190289f9d0613b0a44e5dd6a7f5ca98459853/selenium-3.141.0-py2.py3-none-any.whl (904kB)\n",
            "\r\u001b[K     |▍                               | 10kB 16.1MB/s eta 0:00:01\r\u001b[K     |▊                               | 20kB 11.6MB/s eta 0:00:01\r\u001b[K     |█                               | 30kB 8.8MB/s eta 0:00:01\r\u001b[K     |█▌                              | 40kB 7.8MB/s eta 0:00:01\r\u001b[K     |█▉                              | 51kB 4.1MB/s eta 0:00:01\r\u001b[K     |██▏                             | 61kB 4.6MB/s eta 0:00:01\r\u001b[K     |██▌                             | 71kB 4.7MB/s eta 0:00:01\r\u001b[K     |███                             | 81kB 5.0MB/s eta 0:00:01\r\u001b[K     |███▎                            | 92kB 5.4MB/s eta 0:00:01\r\u001b[K     |███▋                            | 102kB 5.7MB/s eta 0:00:01\r\u001b[K     |████                            | 112kB 5.7MB/s eta 0:00:01\r\u001b[K     |████▍                           | 122kB 5.7MB/s eta 0:00:01\r\u001b[K     |████▊                           | 133kB 5.7MB/s eta 0:00:01\r\u001b[K     |█████                           | 143kB 5.7MB/s eta 0:00:01\r\u001b[K     |█████▍                          | 153kB 5.7MB/s eta 0:00:01\r\u001b[K     |█████▉                          | 163kB 5.7MB/s eta 0:00:01\r\u001b[K     |██████▏                         | 174kB 5.7MB/s eta 0:00:01\r\u001b[K     |██████▌                         | 184kB 5.7MB/s eta 0:00:01\r\u001b[K     |██████▉                         | 194kB 5.7MB/s eta 0:00:01\r\u001b[K     |███████▎                        | 204kB 5.7MB/s eta 0:00:01\r\u001b[K     |███████▋                        | 215kB 5.7MB/s eta 0:00:01\r\u001b[K     |████████                        | 225kB 5.7MB/s eta 0:00:01\r\u001b[K     |████████▎                       | 235kB 5.7MB/s eta 0:00:01\r\u001b[K     |████████▊                       | 245kB 5.7MB/s eta 0:00:01\r\u001b[K     |█████████                       | 256kB 5.7MB/s eta 0:00:01\r\u001b[K     |█████████▍                      | 266kB 5.7MB/s eta 0:00:01\r\u001b[K     |█████████▉                      | 276kB 5.7MB/s eta 0:00:01\r\u001b[K     |██████████▏                     | 286kB 5.7MB/s eta 0:00:01\r\u001b[K     |██████████▌                     | 296kB 5.7MB/s eta 0:00:01\r\u001b[K     |██████████▉                     | 307kB 5.7MB/s eta 0:00:01\r\u001b[K     |███████████▎                    | 317kB 5.7MB/s eta 0:00:01\r\u001b[K     |███████████▋                    | 327kB 5.7MB/s eta 0:00:01\r\u001b[K     |████████████                    | 337kB 5.7MB/s eta 0:00:01\r\u001b[K     |████████████▎                   | 348kB 5.7MB/s eta 0:00:01\r\u001b[K     |████████████▊                   | 358kB 5.7MB/s eta 0:00:01\r\u001b[K     |█████████████                   | 368kB 5.7MB/s eta 0:00:01\r\u001b[K     |█████████████▍                  | 378kB 5.7MB/s eta 0:00:01\r\u001b[K     |█████████████▊                  | 389kB 5.7MB/s eta 0:00:01\r\u001b[K     |██████████████▏                 | 399kB 5.7MB/s eta 0:00:01\r\u001b[K     |██████████████▌                 | 409kB 5.7MB/s eta 0:00:01\r\u001b[K     |██████████████▉                 | 419kB 5.7MB/s eta 0:00:01\r\u001b[K     |███████████████▏                | 430kB 5.7MB/s eta 0:00:01\r\u001b[K     |███████████████▋                | 440kB 5.7MB/s eta 0:00:01\r\u001b[K     |████████████████                | 450kB 5.7MB/s eta 0:00:01\r\u001b[K     |████████████████▎               | 460kB 5.7MB/s eta 0:00:01\r\u001b[K     |████████████████▋               | 471kB 5.7MB/s eta 0:00:01\r\u001b[K     |█████████████████               | 481kB 5.7MB/s eta 0:00:01\r\u001b[K     |█████████████████▍              | 491kB 5.7MB/s eta 0:00:01\r\u001b[K     |█████████████████▊              | 501kB 5.7MB/s eta 0:00:01\r\u001b[K     |██████████████████▏             | 512kB 5.7MB/s eta 0:00:01\r\u001b[K     |██████████████████▌             | 522kB 5.7MB/s eta 0:00:01\r\u001b[K     |██████████████████▉             | 532kB 5.7MB/s eta 0:00:01\r\u001b[K     |███████████████████▏            | 542kB 5.7MB/s eta 0:00:01\r\u001b[K     |███████████████████▋            | 552kB 5.7MB/s eta 0:00:01\r\u001b[K     |████████████████████            | 563kB 5.7MB/s eta 0:00:01\r\u001b[K     |████████████████████▎           | 573kB 5.7MB/s eta 0:00:01\r\u001b[K     |████████████████████▋           | 583kB 5.7MB/s eta 0:00:01\r\u001b[K     |█████████████████████           | 593kB 5.7MB/s eta 0:00:01\r\u001b[K     |█████████████████████▍          | 604kB 5.7MB/s eta 0:00:01\r\u001b[K     |█████████████████████▊          | 614kB 5.7MB/s eta 0:00:01\r\u001b[K     |██████████████████████          | 624kB 5.7MB/s eta 0:00:01\r\u001b[K     |██████████████████████▌         | 634kB 5.7MB/s eta 0:00:01\r\u001b[K     |██████████████████████▉         | 645kB 5.7MB/s eta 0:00:01\r\u001b[K     |███████████████████████▏        | 655kB 5.7MB/s eta 0:00:01\r\u001b[K     |███████████████████████▌        | 665kB 5.7MB/s eta 0:00:01\r\u001b[K     |████████████████████████        | 675kB 5.7MB/s eta 0:00:01\r\u001b[K     |████████████████████████▎       | 686kB 5.7MB/s eta 0:00:01\r\u001b[K     |████████████████████████▋       | 696kB 5.7MB/s eta 0:00:01\r\u001b[K     |█████████████████████████       | 706kB 5.7MB/s eta 0:00:01\r\u001b[K     |█████████████████████████▍      | 716kB 5.7MB/s eta 0:00:01\r\u001b[K     |█████████████████████████▊      | 727kB 5.7MB/s eta 0:00:01\r\u001b[K     |██████████████████████████      | 737kB 5.7MB/s eta 0:00:01\r\u001b[K     |██████████████████████████▍     | 747kB 5.7MB/s eta 0:00:01\r\u001b[K     |██████████████████████████▉     | 757kB 5.7MB/s eta 0:00:01\r\u001b[K     |███████████████████████████▏    | 768kB 5.7MB/s eta 0:00:01\r\u001b[K     |███████████████████████████▌    | 778kB 5.7MB/s eta 0:00:01\r\u001b[K     |████████████████████████████    | 788kB 5.7MB/s eta 0:00:01\r\u001b[K     |████████████████████████████▎   | 798kB 5.7MB/s eta 0:00:01\r\u001b[K     |████████████████████████████▋   | 808kB 5.7MB/s eta 0:00:01\r\u001b[K     |█████████████████████████████   | 819kB 5.7MB/s eta 0:00:01\r\u001b[K     |█████████████████████████████▍  | 829kB 5.7MB/s eta 0:00:01\r\u001b[K     |█████████████████████████████▊  | 839kB 5.7MB/s eta 0:00:01\r\u001b[K     |██████████████████████████████  | 849kB 5.7MB/s eta 0:00:01\r\u001b[K     |██████████████████████████████▍ | 860kB 5.7MB/s eta 0:00:01\r\u001b[K     |██████████████████████████████▉ | 870kB 5.7MB/s eta 0:00:01\r\u001b[K     |███████████████████████████████▏| 880kB 5.7MB/s eta 0:00:01\r\u001b[K     |███████████████████████████████▌| 890kB 5.7MB/s eta 0:00:01\r\u001b[K     |███████████████████████████████▉| 901kB 5.7MB/s eta 0:00:01\r\u001b[K     |████████████████████████████████| 911kB 5.7MB/s \n",
            "\u001b[?25hRequirement already satisfied: urllib3 in /usr/local/lib/python3.6/dist-packages (from selenium) (1.24.3)\n",
            "Installing collected packages: selenium\n",
            "Successfully installed selenium-3.141.0\n",
            "Collecting BeautifulSoup\n",
            "  Downloading https://files.pythonhosted.org/packages/40/f2/6c9f2f3e696ee6a1fb0e4d7850617e224ed2b0b1e872110abffeca2a09d4/BeautifulSoup-3.2.2.tar.gz\n",
            "\u001b[31mERROR: Command errored out with exit status 1: python setup.py egg_info Check the logs for full command output.\u001b[0m\n",
            "Requirement already satisfied: html5lib in /usr/local/lib/python3.6/dist-packages (1.0.1)\n",
            "Requirement already satisfied: six>=1.9 in /usr/local/lib/python3.6/dist-packages (from html5lib) (1.15.0)\n",
            "Requirement already satisfied: webencodings in /usr/local/lib/python3.6/dist-packages (from html5lib) (0.5.1)\n",
            "Ign:1 https://developer.download.nvidia.com/compute/cuda/repos/ubuntu1804/x86_64  InRelease\n",
            "Get:2 https://cloud.r-project.org/bin/linux/ubuntu bionic-cran40/ InRelease [3,626 B]\n",
            "Get:3 http://ppa.launchpad.net/c2d4u.team/c2d4u4.0+/ubuntu bionic InRelease [15.9 kB]\n",
            "Hit:4 http://archive.ubuntu.com/ubuntu bionic InRelease\n",
            "Get:5 http://security.ubuntu.com/ubuntu bionic-security InRelease [88.7 kB]\n",
            "Ign:6 https://developer.download.nvidia.com/compute/machine-learning/repos/ubuntu1804/x86_64  InRelease\n",
            "Get:7 https://developer.download.nvidia.com/compute/cuda/repos/ubuntu1804/x86_64  Release [697 B]\n",
            "Hit:8 https://developer.download.nvidia.com/compute/machine-learning/repos/ubuntu1804/x86_64  Release\n",
            "Get:9 https://developer.download.nvidia.com/compute/cuda/repos/ubuntu1804/x86_64  Release.gpg [836 B]\n",
            "Get:10 http://archive.ubuntu.com/ubuntu bionic-updates InRelease [88.7 kB]\n",
            "Get:11 http://ppa.launchpad.net/graphics-drivers/ppa/ubuntu bionic InRelease [21.3 kB]\n",
            "Get:12 http://archive.ubuntu.com/ubuntu bionic-backports InRelease [74.6 kB]\n",
            "Ign:14 https://developer.download.nvidia.com/compute/cuda/repos/ubuntu1804/x86_64  Packages\n",
            "Get:14 https://developer.download.nvidia.com/compute/cuda/repos/ubuntu1804/x86_64  Packages [443 kB]\n",
            "Get:15 http://ppa.launchpad.net/c2d4u.team/c2d4u4.0+/ubuntu bionic/main Sources [1,690 kB]\n",
            "Get:16 http://security.ubuntu.com/ubuntu bionic-security/universe amd64 Packages [1,366 kB]\n",
            "Get:17 http://archive.ubuntu.com/ubuntu bionic-updates/multiverse amd64 Packages [54.3 kB]\n",
            "Get:18 http://archive.ubuntu.com/ubuntu bionic-updates/main amd64 Packages [2,208 kB]\n",
            "Get:19 http://security.ubuntu.com/ubuntu bionic-security/main amd64 Packages [1,781 kB]\n",
            "Get:20 http://archive.ubuntu.com/ubuntu bionic-updates/universe amd64 Packages [2,131 kB]\n",
            "Get:21 http://ppa.launchpad.net/c2d4u.team/c2d4u4.0+/ubuntu bionic/main amd64 Packages [865 kB]\n",
            "Get:22 http://archive.ubuntu.com/ubuntu bionic-updates/restricted amd64 Packages [252 kB]\n",
            "Get:23 http://ppa.launchpad.net/graphics-drivers/ppa/ubuntu bionic/main amd64 Packages [46.5 kB]\n",
            "Fetched 11.1 MB in 3s (3,363 kB/s)\n",
            "Reading package lists... Done\n",
            "Reading package lists... Done\n",
            "Building dependency tree       \n",
            "Reading state information... Done\n",
            "The following additional packages will be installed:\n",
            "  chromium-browser chromium-browser-l10n chromium-codecs-ffmpeg-extra\n",
            "Suggested packages:\n",
            "  webaccounts-chromium-extension unity-chromium-extension adobe-flashplugin\n",
            "The following NEW packages will be installed:\n",
            "  chromium-browser chromium-browser-l10n chromium-chromedriver\n",
            "  chromium-codecs-ffmpeg-extra\n",
            "0 upgraded, 4 newly installed, 0 to remove and 60 not upgraded.\n",
            "Need to get 80.2 MB of archives.\n",
            "After this operation, 272 MB of additional disk space will be used.\n",
            "Get:1 http://archive.ubuntu.com/ubuntu bionic-updates/universe amd64 chromium-codecs-ffmpeg-extra amd64 86.0.4240.198-0ubuntu0.18.04.1 [1,126 kB]\n",
            "Get:2 http://archive.ubuntu.com/ubuntu bionic-updates/universe amd64 chromium-browser amd64 86.0.4240.198-0ubuntu0.18.04.1 [71.0 MB]\n",
            "Get:3 http://archive.ubuntu.com/ubuntu bionic-updates/universe amd64 chromium-browser-l10n all 86.0.4240.198-0ubuntu0.18.04.1 [3,585 kB]\n",
            "Get:4 http://archive.ubuntu.com/ubuntu bionic-updates/universe amd64 chromium-chromedriver amd64 86.0.4240.198-0ubuntu0.18.04.1 [4,492 kB]\n",
            "Fetched 80.2 MB in 5s (16.3 MB/s)\n",
            "Selecting previously unselected package chromium-codecs-ffmpeg-extra.\n",
            "(Reading database ... 144793 files and directories currently installed.)\n",
            "Preparing to unpack .../chromium-codecs-ffmpeg-extra_86.0.4240.198-0ubuntu0.18.04.1_amd64.deb ...\n",
            "Unpacking chromium-codecs-ffmpeg-extra (86.0.4240.198-0ubuntu0.18.04.1) ...\n",
            "Selecting previously unselected package chromium-browser.\n",
            "Preparing to unpack .../chromium-browser_86.0.4240.198-0ubuntu0.18.04.1_amd64.deb ...\n",
            "Unpacking chromium-browser (86.0.4240.198-0ubuntu0.18.04.1) ...\n",
            "Selecting previously unselected package chromium-browser-l10n.\n",
            "Preparing to unpack .../chromium-browser-l10n_86.0.4240.198-0ubuntu0.18.04.1_all.deb ...\n",
            "Unpacking chromium-browser-l10n (86.0.4240.198-0ubuntu0.18.04.1) ...\n",
            "Selecting previously unselected package chromium-chromedriver.\n",
            "Preparing to unpack .../chromium-chromedriver_86.0.4240.198-0ubuntu0.18.04.1_amd64.deb ...\n",
            "Unpacking chromium-chromedriver (86.0.4240.198-0ubuntu0.18.04.1) ...\n",
            "Setting up chromium-codecs-ffmpeg-extra (86.0.4240.198-0ubuntu0.18.04.1) ...\n",
            "Setting up chromium-browser (86.0.4240.198-0ubuntu0.18.04.1) ...\n",
            "update-alternatives: using /usr/bin/chromium-browser to provide /usr/bin/x-www-browser (x-www-browser) in auto mode\n",
            "update-alternatives: using /usr/bin/chromium-browser to provide /usr/bin/gnome-www-browser (gnome-www-browser) in auto mode\n",
            "Setting up chromium-chromedriver (86.0.4240.198-0ubuntu0.18.04.1) ...\n",
            "Setting up chromium-browser-l10n (86.0.4240.198-0ubuntu0.18.04.1) ...\n",
            "Processing triggers for hicolor-icon-theme (0.17-2) ...\n",
            "Processing triggers for mime-support (3.60ubuntu1) ...\n",
            "Processing triggers for man-db (2.8.3-2ubuntu0.1) ...\n",
            "cp: '/usr/lib/chromium-browser/chromedriver' and '/usr/bin/chromedriver' are the same file\n"
          ],
          "name": "stdout"
        }
      ]
    },
    {
      "cell_type": "code",
      "metadata": {
        "id": "xUucGvyOHNd9"
      },
      "source": [
        "# импорт библиотек\n",
        "from selenium import webdriver\n",
        "from bs4 import BeautifulSoup\n",
        "import pandas as pd\n",
        "import sys\n",
        "sys.path.insert(0,'/usr/lib/chromium-browser/chromedriver')"
      ],
      "execution_count": null,
      "outputs": []
    },
    {
      "cell_type": "code",
      "metadata": {
        "colab": {
          "base_uri": "https://localhost:8080/"
        },
        "id": "Fl3w2DpFJWku",
        "outputId": "e3d44366-3e0a-4b9e-99c1-2e4127b98666"
      },
      "source": [
        "# путь к драйверу chrome\n",
        "chrome_options = webdriver.ChromeOptions()\n",
        "chrome_options.add_argument('--headless')\n",
        "chrome_options.add_argument('--no-sandbox')\n",
        "chrome_options.add_argument('--disable-dev-shm-usage')\n",
        "wd = webdriver.Chrome('chromedriver',chrome_options=chrome_options)\n",
        "\n"
      ],
      "execution_count": null,
      "outputs": [
        {
          "output_type": "stream",
          "text": [
            "/usr/local/lib/python3.6/dist-packages/ipykernel_launcher.py:6: DeprecationWarning: use options instead of chrome_options\n",
            "  \n"
          ],
          "name": "stderr"
        }
      ]
    },
    {
      "cell_type": "code",
      "metadata": {
        "id": "N4cKF5E2wZfn"
      },
      "source": [
        "d = {'datetime': [], 'headline': [], 'tags': [], 'section':[]}\n",
        "df = pd.DataFrame(data=d)"
      ],
      "execution_count": null,
      "outputs": []
    },
    {
      "cell_type": "code",
      "metadata": {
        "colab": {
          "base_uri": "https://localhost:8080/"
        },
        "id": "OSTGrrVP16df",
        "outputId": "89f92439-a09c-45bd-985b-83f6e86ee398"
      },
      "source": [
        "%%time\n",
        "for i in range(403250, 403309):\n",
        "    url = 'https://www.baikal-daily.ru/news/19/' + str(i) + '/'\n",
        "    wd.get(url)\n",
        "    #print(url)\n",
        "    requiredHtml = wd.page_source\n",
        "    soup = BeautifulSoup(requiredHtml, 'html5lib')\n",
        "    time = soup.find_all(itemprop=\"datePublished\")\n",
        "    if len(time) == 0:\n",
        "      break;\n",
        "\n",
        "    headline = soup.find_all(itemprop=\"headline\")\n",
        "    tags = soup.find_all(class_=\"news-tags\")\n",
        "    tags = tags[0].text.strip().replace(\" \", \"\").split('\\n')\n",
        "    section = soup.find_all(class_=\"news-section\")\n",
        "    for tag in tags:\n",
        "      row = [time[0].text, headline[0].text, tag, section[0].text]\n",
        "      #print(time[0].text, headline[0].text, tag, section[0].text)\n",
        "      df.loc[len(df)] = row"
      ],
      "execution_count": null,
      "outputs": [
        {
          "output_type": "stream",
          "text": [
            "CPU times: user 10.3 s, sys: 59.4 ms, total: 10.3 s\n",
            "Wall time: 58.4 s\n"
          ],
          "name": "stdout"
        }
      ]
    },
    {
      "cell_type": "code",
      "metadata": {
        "colab": {
          "base_uri": "https://localhost:8080/",
          "height": 677
        },
        "id": "DFwsoJye2umR",
        "outputId": "5ad0ae25-d3e3-482d-a5f0-02bb111fe6e8"
      },
      "source": [
        "df.head(20)"
      ],
      "execution_count": null,
      "outputs": [
        {
          "output_type": "execute_result",
          "data": {
            "text/html": [
              "<div>\n",
              "<style scoped>\n",
              "    .dataframe tbody tr th:only-of-type {\n",
              "        vertical-align: middle;\n",
              "    }\n",
              "\n",
              "    .dataframe tbody tr th {\n",
              "        vertical-align: top;\n",
              "    }\n",
              "\n",
              "    .dataframe thead th {\n",
              "        text-align: right;\n",
              "    }\n",
              "</style>\n",
              "<table border=\"1\" class=\"dataframe\">\n",
              "  <thead>\n",
              "    <tr style=\"text-align: right;\">\n",
              "      <th></th>\n",
              "      <th>datetime</th>\n",
              "      <th>headline</th>\n",
              "      <th>tags</th>\n",
              "      <th>section</th>\n",
              "    </tr>\n",
              "  </thead>\n",
              "  <tbody>\n",
              "    <tr>\n",
              "      <th>0</th>\n",
              "      <td>24.11.2020 13:19</td>\n",
              "      <td>В Улан-Удэ украденный у подростка телефон дваж...</td>\n",
              "      <td>кража</td>\n",
              "      <td>Происшествия,</td>\n",
              "    </tr>\n",
              "    <tr>\n",
              "      <th>1</th>\n",
              "      <td>24.11.2020 13:25</td>\n",
              "      <td>Тайник с незаконно списанными картинами нашли ...</td>\n",
              "      <td>картина</td>\n",
              "      <td>Происшествия,</td>\n",
              "    </tr>\n",
              "    <tr>\n",
              "      <th>2</th>\n",
              "      <td>24.11.2020 13:25</td>\n",
              "      <td>Тайник с незаконно списанными картинами нашли ...</td>\n",
              "      <td>вузы</td>\n",
              "      <td>Происшествия,</td>\n",
              "    </tr>\n",
              "    <tr>\n",
              "      <th>3</th>\n",
              "      <td>24.11.2020 13:25</td>\n",
              "      <td>Тайник с незаконно списанными картинами нашли ...</td>\n",
              "      <td>растрата</td>\n",
              "      <td>Происшествия,</td>\n",
              "    </tr>\n",
              "    <tr>\n",
              "      <th>4</th>\n",
              "      <td>24.11.2020 13:31</td>\n",
              "      <td>Пермь покупает столько же трамваев, как Улан-У...</td>\n",
              "      <td>трамвай</td>\n",
              "      <td>Экономика,</td>\n",
              "    </tr>\n",
              "    <tr>\n",
              "      <th>5</th>\n",
              "      <td>24.11.2020 19:45</td>\n",
              "      <td>Экскурсовод из Прибайкалья победил на конкурсе...</td>\n",
              "      <td>конкурс</td>\n",
              "      <td>Общество,</td>\n",
              "    </tr>\n",
              "    <tr>\n",
              "      <th>6</th>\n",
              "      <td>24.11.2020 19:45</td>\n",
              "      <td>Экскурсовод из Прибайкалья победил на конкурсе...</td>\n",
              "      <td>Иркутскаяобласть</td>\n",
              "      <td>Общество,</td>\n",
              "    </tr>\n",
              "    <tr>\n",
              "      <th>7</th>\n",
              "      <td>24.11.2020 19:45</td>\n",
              "      <td>Экскурсовод из Прибайкалья победил на конкурсе...</td>\n",
              "      <td>особоохраняемыеприродныетерритории</td>\n",
              "      <td>Общество,</td>\n",
              "    </tr>\n",
              "    <tr>\n",
              "      <th>8</th>\n",
              "      <td>24.11.2020 19:45</td>\n",
              "      <td>Экскурсовод из Прибайкалья победил на конкурсе...</td>\n",
              "      <td>экологическийтуризм</td>\n",
              "      <td>Общество,</td>\n",
              "    </tr>\n",
              "    <tr>\n",
              "      <th>9</th>\n",
              "      <td>24.11.2020 13:37</td>\n",
              "      <td>В Иркутской области назвали самый опасный для ...</td>\n",
              "      <td>федеральнаятрасса</td>\n",
              "      <td>Общество,</td>\n",
              "    </tr>\n",
              "    <tr>\n",
              "      <th>10</th>\n",
              "      <td>24.11.2020 13:37</td>\n",
              "      <td>В Иркутской области назвали самый опасный для ...</td>\n",
              "      <td>ДТП</td>\n",
              "      <td>Общество,</td>\n",
              "    </tr>\n",
              "    <tr>\n",
              "      <th>11</th>\n",
              "      <td>24.11.2020 13:37</td>\n",
              "      <td>В Иркутской области назвали самый опасный для ...</td>\n",
              "      <td>фура</td>\n",
              "      <td>Общество,</td>\n",
              "    </tr>\n",
              "    <tr>\n",
              "      <th>12</th>\n",
              "      <td>24.11.2020 13:43</td>\n",
              "      <td>Режиссёр Солбон Лыгденов ответил хейтерам</td>\n",
              "      <td>фильм</td>\n",
              "      <td>Общество,</td>\n",
              "    </tr>\n",
              "    <tr>\n",
              "      <th>13</th>\n",
              "      <td>24.11.2020 13:43</td>\n",
              "      <td>Режиссёр Солбон Лыгденов ответил хейтерам</td>\n",
              "      <td>режиссёр</td>\n",
              "      <td>Общество,</td>\n",
              "    </tr>\n",
              "    <tr>\n",
              "      <th>14</th>\n",
              "      <td>24.11.2020 13:49</td>\n",
              "      <td>В Бурятии правозащитницу обвинили в неношении ...</td>\n",
              "      <td>масочныйрежим</td>\n",
              "      <td>Общество,</td>\n",
              "    </tr>\n",
              "    <tr>\n",
              "      <th>15</th>\n",
              "      <td>24.11.2020 13:49</td>\n",
              "      <td>В Бурятии правозащитницу обвинили в неношении ...</td>\n",
              "      <td>маски</td>\n",
              "      <td>Общество,</td>\n",
              "    </tr>\n",
              "    <tr>\n",
              "      <th>16</th>\n",
              "      <td>24.11.2020 20:45</td>\n",
              "      <td>В Иркутской области назвали победителей фестив...</td>\n",
              "      <td>фестиваль</td>\n",
              "      <td>Общество,</td>\n",
              "    </tr>\n",
              "    <tr>\n",
              "      <th>17</th>\n",
              "      <td>24.11.2020 20:45</td>\n",
              "      <td>В Иркутской области назвали победителей фестив...</td>\n",
              "      <td>конкурс</td>\n",
              "      <td>Общество,</td>\n",
              "    </tr>\n",
              "    <tr>\n",
              "      <th>18</th>\n",
              "      <td>24.11.2020 20:45</td>\n",
              "      <td>В Иркутской области назвали победителей фестив...</td>\n",
              "      <td>Иркутскаяобласть</td>\n",
              "      <td>Общество,</td>\n",
              "    </tr>\n",
              "    <tr>\n",
              "      <th>19</th>\n",
              "      <td>24.11.2020 20:45</td>\n",
              "      <td>В Иркутской области назвали победителей фестив...</td>\n",
              "      <td>дети</td>\n",
              "      <td>Общество,</td>\n",
              "    </tr>\n",
              "  </tbody>\n",
              "</table>\n",
              "</div>"
            ],
            "text/plain": [
              "            datetime  ...        section\n",
              "0   24.11.2020 13:19  ...  Происшествия,\n",
              "1   24.11.2020 13:25  ...  Происшествия,\n",
              "2   24.11.2020 13:25  ...  Происшествия,\n",
              "3   24.11.2020 13:25  ...  Происшествия,\n",
              "4   24.11.2020 13:31  ...     Экономика,\n",
              "5   24.11.2020 19:45  ...      Общество,\n",
              "6   24.11.2020 19:45  ...      Общество,\n",
              "7   24.11.2020 19:45  ...      Общество,\n",
              "8   24.11.2020 19:45  ...      Общество,\n",
              "9   24.11.2020 13:37  ...      Общество,\n",
              "10  24.11.2020 13:37  ...      Общество,\n",
              "11  24.11.2020 13:37  ...      Общество,\n",
              "12  24.11.2020 13:43  ...      Общество,\n",
              "13  24.11.2020 13:43  ...      Общество,\n",
              "14  24.11.2020 13:49  ...      Общество,\n",
              "15  24.11.2020 13:49  ...      Общество,\n",
              "16  24.11.2020 20:45  ...      Общество,\n",
              "17  24.11.2020 20:45  ...      Общество,\n",
              "18  24.11.2020 20:45  ...      Общество,\n",
              "19  24.11.2020 20:45  ...      Общество,\n",
              "\n",
              "[20 rows x 4 columns]"
            ]
          },
          "metadata": {
            "tags": []
          },
          "execution_count": 112
        }
      ]
    },
    {
      "cell_type": "code",
      "metadata": {
        "colab": {
          "base_uri": "https://localhost:8080/"
        },
        "id": "JFFNxz4FEyNf",
        "outputId": "a59e58ff-69dd-461f-a48f-931bdfdf9c3d"
      },
      "source": [
        "df.tags.unique()"
      ],
      "execution_count": null,
      "outputs": [
        {
          "output_type": "execute_result",
          "data": {
            "text/plain": [
              "array(['кража', 'картина', 'вузы', 'растрата', 'трамвай', 'конкурс',\n",
              "       'Иркутскаяобласть', 'особоохраняемыеприродныетерритории',\n",
              "       'экологическийтуризм', 'федеральнаятрасса', 'ДТП', 'фура', 'фильм',\n",
              "       'режиссёр', 'масочныйрежим', 'маски', 'фестиваль', 'дети',\n",
              "       'бурятскийязык', 'смерть', 'некролог', 'ВеликаяОтечественная',\n",
              "       'ЧС', 'волонтеры', 'добровольчество', 'тренинг', 'обучение', 'МЧС',\n",
              "       'покушениенаизнасилование', 'спорт', 'спортивнаяплощадка', 'ТОС',\n",
              "       'Чита', 'рекорд', 'книгарекордовГиннеса', 'черныелесорубы',\n",
              "       'овощи', 'Роспотребнадзор', 'Забайкальскийкрай', 'налоги',\n",
              "       'бизнес', 'строительство', 'национальнаябиблиотека', 'бренд',\n",
              "       'всероссийскиесоревнования', 'бокс', 'Ангарск', 'шаманы',\n",
              "       'шаманизм', 'коронавирус', 'лавиннаяопасность', 'Сбербанк',\n",
              "       'банки', 'пожар'], dtype=object)"
            ]
          },
          "metadata": {
            "tags": []
          },
          "execution_count": 114
        }
      ]
    },
    {
      "cell_type": "code",
      "metadata": {
        "id": "-aeAnTd0FkyW"
      },
      "source": [
        "import seaborn as sns\n",
        "import matplotlib.pyplot as plt\n",
        "tmp_valc = df[\"vals\"].value_counts()\n",
        "tmp_valc.head()"
      ],
      "execution_count": null,
      "outputs": []
    }
  ]
}